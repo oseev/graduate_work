{
  "nbformat": 4,
  "nbformat_minor": 0,
  "metadata": {
    "colab": {
      "private_outputs": true,
      "provenance": [],
      "collapsed_sections": [
        "iYlctNAPCY6e",
        "LNSp10QrV4qW",
        "q1k68gtjd2tY",
        "YObWWkqmigIE",
        "c2U8x5ByfQPM",
        "1Vu6PDQ3lwj3"
      ]
    },
    "kernelspec": {
      "name": "python3",
      "display_name": "Python 3"
    },
    "language_info": {
      "name": "python"
    }
  },
  "cells": [
    {
      "cell_type": "markdown",
      "source": [
        "# Дипломная работа по курсу \"Python для анализа данных\""
      ],
      "metadata": {
        "id": "rNlAea1D9m37"
      }
    },
    {
      "cell_type": "markdown",
      "source": [
        "Признаки:\n",
        "1. satisfaction_level - Уровень удовлетворенности работой\n",
        "2. Last_evaluation - Время с момента последней оценки в годах\n",
        "3. number_projects - Количество проектов, выполненных за время работы\n",
        "4. average_monthly_hours - Среднее количество часов на рабочем месте в месяц\n",
        "5. time_spend_company - Стаж работы в компании в годах\n",
        "6. work_accident - Происходили ли несчастные случаи на рабочем месте с сотрудником\n",
        "7. left - уволился ли сотрудник\n",
        "8. promotion_last_5years - повышался ли сотрудник за последние пять лет\n",
        "9. department - отдел в котором работает сотрудник\n",
        "10. salary - относительный уровень зарплаты"
      ],
      "metadata": {
        "id": "dJh06ZDtAn7m"
      }
    },
    {
      "cell_type": "markdown",
      "source": [
        "## 1 *Загрузите файл HR.csv в pandas dataframe*"
      ],
      "metadata": {
        "id": "OFfO0cQq-ggW"
      }
    },
    {
      "cell_type": "code",
      "execution_count": null,
      "metadata": {
        "id": "GQMYvvsj9YHS"
      },
      "outputs": [],
      "source": [
        "# импортируем модули\n",
        "import numpy as np\n",
        "import pandas as pd\n",
        "import scipy.stats as st\n",
        "import math\n",
        "import matplotlib.pyplot as plt\n",
        "import seaborn as sns\n",
        "import scipy as spy\n",
        "from scipy import stats\n",
        "from sklearn.linear_model import LinearRegression\n",
        "from sklearn.model_selection import train_test_split\n",
        "from sklearn.model_selection import RepeatedStratifiedKFold\n",
        "from sklearn.model_selection import cross_val_score\n",
        "# LDA-функционал\n",
        "from sklearn.discriminant_analysis import LinearDiscriminantAnalysis"
      ]
    },
    {
      "cell_type": "code",
      "source": [
        "# загржаем файл в DataFrame\n",
        "\n",
        "df = pd.read_csv('HR.csv')"
      ],
      "metadata": {
        "id": "BjbROSsE_G_B"
      },
      "execution_count": null,
      "outputs": []
    },
    {
      "cell_type": "code",
      "source": [
        "df.head()"
      ],
      "metadata": {
        "id": "9unw-hi7_Rzk"
      },
      "execution_count": null,
      "outputs": []
    },
    {
      "cell_type": "markdown",
      "source": [
        "## 2. Рассчитайте основные статистики для переменных (среднее,медиана,мода,мин/макс,сред.отклонение)."
      ],
      "metadata": {
        "id": "iYlctNAPCY6e"
      }
    },
    {
      "cell_type": "code",
      "source": [
        "# gпосмотрим характеристики по всему датафрейму\n",
        "df.describe()"
      ],
      "metadata": {
        "id": "av5cjQ_3CdfP"
      },
      "execution_count": null,
      "outputs": []
    },
    {
      "cell_type": "markdown",
      "source": [
        "разбиваем данные по типам"
      ],
      "metadata": {
        "id": "mQnHnQXhH4oj"
      }
    },
    {
      "cell_type": "code",
      "source": [
        "# разбиваем на непрерывные, дискретные, категориальные\n",
        "\n",
        "continues_titles = ['satisfaction_level', 'last_evaluation', 'average_montly_hours']\n",
        "descrete_titles = ['number_project', 'time_spend_company']\n",
        "nominal_titles = ['department', 'salary', 'Work_accident', 'left', 'promotion_last_5years']"
      ],
      "metadata": {
        "id": "uW-pe1gQMLpH"
      },
      "execution_count": null,
      "outputs": []
    },
    {
      "cell_type": "markdown",
      "source": [
        "получаем основные статистические характеристики"
      ],
      "metadata": {
        "id": "k7gT8B3ohxaZ"
      }
    },
    {
      "cell_type": "code",
      "source": [
        "def stat_values(continues_titles, descrete_titles, nominal_titles):\n",
        "    for value in continues_titles:\n",
        "        datetype='continues'\n",
        "        print_value(value)\n",
        "    for value in descrete_titles:\n",
        "        datetype = 'descrete'\n",
        "        print_value(value, datetype)\n",
        "    for value in nominal_titles:\n",
        "        datetype = 'nominal'\n",
        "        print_value(value, datetype)\n",
        "\n",
        "def print_value(value, datetype='continues'):\n",
        "    print(f\"\\n.................\\n{value}\\n\")\n",
        "    if datetype == 'descrete':\n",
        "        print(f\"Среднее {df[value].mean():.0f}\")\n",
        "    else:        \n",
        "        print(f\"Мода {df[value].mode()[0]}\")\n",
        "    if datetype != 'nominal':\n",
        "        print(f\"Среднее {df[value].mean()}\")     \n",
        "        print(f\"Максимум для {value} - {df[value].max()}\")\n",
        "        print(f\"Минимум для {value} - {df[value].min()}\")\n",
        "        print(f\"Размах {df[value].max() - df[value].min()}\")          \n",
        "        print(f\"Медиана {df[value].median()}\")   \n",
        "        print(f\"СКО {df[value].std()}\")"
      ],
      "metadata": {
        "id": "GN1La_3tPzdL"
      },
      "execution_count": null,
      "outputs": []
    },
    {
      "cell_type": "code",
      "source": [
        "stat_values(continues_titles, descrete_titles, nominal_titles)"
      ],
      "metadata": {
        "id": "8vKBHyifX4rW"
      },
      "execution_count": null,
      "outputs": []
    },
    {
      "cell_type": "markdown",
      "source": [
        "## 3. Рассчитайте и визуализировать корреляционную матрицу для количественных переменных. Определите две самые скоррелированные и две наименее скоррелированные переменные."
      ],
      "metadata": {
        "id": "3gqX-z0qiFc9"
      }
    },
    {
      "cell_type": "markdown",
      "source": [
        "оставляем количественные непрерывные и дискретные данные"
      ],
      "metadata": {
        "id": "incyG8Z38sGM"
      }
    },
    {
      "cell_type": "code",
      "source": [
        "data_for_cor = df[continues_titles + descrete_titles]\n",
        "data_for_cor.head()"
      ],
      "metadata": {
        "id": "AFxE0or6iLbH"
      },
      "execution_count": null,
      "outputs": []
    },
    {
      "cell_type": "markdown",
      "source": [
        "корреляционная матрица"
      ],
      "metadata": {
        "id": "UswCW0F5CPrm"
      }
    },
    {
      "cell_type": "code",
      "source": [
        "data_for_cor.corr()"
      ],
      "metadata": {
        "id": "EvizxKS4B00t"
      },
      "execution_count": null,
      "outputs": []
    },
    {
      "cell_type": "markdown",
      "source": [
        "коэффициент корреляции Спирмена"
      ],
      "metadata": {
        "id": "jdXXPbUKHzx9"
      }
    },
    {
      "cell_type": "code",
      "source": [
        "data_for_cor.corr(method='spearman')"
      ],
      "metadata": {
        "id": "nPRfG1-rEeEu"
      },
      "execution_count": null,
      "outputs": []
    },
    {
      "cell_type": "code",
      "source": [
        "# Возьмем матрицу коэффициентов корреляции\n",
        "\n",
        "minmax = data_for_cor.corr()\n",
        "\n",
        "# удаляем дубли\n",
        "\n",
        "for title in abs(minmax).index:\n",
        "    minmax[title][title:] = None\n",
        "\n",
        "# Вычислим \n",
        "\n",
        "new_array = np.array([])\n",
        "for name, values in minmax.iteritems():\n",
        "    new_array = np.append(new_array, values)\n",
        "\n",
        "# убираем NaN. Сортируем массив.\n",
        "\n",
        "new_array = new_array[np.isfinite(new_array)]\n",
        "new_array = np.sort(new_array)\n",
        "\n",
        "# берем 2-е элементы с конца и начала\n",
        "\n",
        "second_max = new_array[-2]\n",
        "second_min = new_array[1]\n",
        "\n",
        "# фильтруем данные \n",
        "\n",
        "two_max = minmax[minmax.loc[:] >= second_max]\n",
        "two_min = minmax[minmax.loc[:] <= second_min]"
      ],
      "metadata": {
        "id": "YMUBGotED_EG"
      },
      "execution_count": null,
      "outputs": []
    },
    {
      "cell_type": "code",
      "source": [
        "# Максимальная корреляция:\n",
        "\n",
        "print('Максимальная корреляция:')\n",
        "\n",
        "two_max.dropna(axis=0, how='all').dropna(axis=1, how='all')"
      ],
      "metadata": {
        "id": "vNkxEM6_zF4t"
      },
      "execution_count": null,
      "outputs": []
    },
    {
      "cell_type": "code",
      "source": [
        "# Минимальная корреляция:\n",
        "\n",
        "print('Минимальная корреляция:')\n",
        "\n",
        "two_min.dropna(axis=0, how='all').dropna(axis=1, how='all')"
      ],
      "metadata": {
        "id": "6Rb1lUr56OZZ"
      },
      "execution_count": null,
      "outputs": []
    },
    {
      "cell_type": "markdown",
      "source": [
        "строим haetmap"
      ],
      "metadata": {
        "id": "Dsy8WyGFCWa7"
      }
    },
    {
      "cell_type": "code",
      "source": [
        "sns.heatmap(data_for_cor.corr(), annot=True)"
      ],
      "metadata": {
        "id": "IZz8p0vx99kU"
      },
      "execution_count": null,
      "outputs": []
    },
    {
      "cell_type": "markdown",
      "source": [
        "по таблице бОльшая корреляция для **number_project** и **average_montly_hours**. Вероятно, чем больше сотрдуник реализовал проектов, тем больше вермени он проводил на работе.\n",
        "Также есть бОльшая корреляция между **number_project** и **last_evaluation**."
      ],
      "metadata": {
        "id": "cEogsAWOKNJ9"
      }
    },
    {
      "cell_type": "markdown",
      "source": [
        "Самая низкая корреляция между **satisfaction_level** и **average_montly_hours**, а также между **satisfaction_level** и **time_spend_company**"
      ],
      "metadata": {
        "id": "kSChphk3TJyH"
      }
    },
    {
      "cell_type": "markdown",
      "source": [
        "## 4. Рассчитайте сколько сотрудников работает в каждом департаменте."
      ],
      "metadata": {
        "id": "LNSp10QrV4qW"
      }
    },
    {
      "cell_type": "markdown",
      "source": [
        "для начала исключим всех уволившихся сотрудников"
      ],
      "metadata": {
        "id": "RXSvGdrAWyNY"
      }
    },
    {
      "cell_type": "code",
      "source": [
        "df['left'].value_counts().head()"
      ],
      "metadata": {
        "id": "xx93fXaja4-N"
      },
      "execution_count": null,
      "outputs": []
    },
    {
      "cell_type": "markdown",
      "source": [
        "предполгается, что 0 - уволившиеся сотрудники, 1 - работающие. Если компания существует долго, то количество уволившихся сотрудников значительно выше."
      ],
      "metadata": {
        "id": "jx1HmpLNbQ6m"
      }
    },
    {
      "cell_type": "code",
      "source": [
        "employee = df[df['left'] == 1]"
      ],
      "metadata": {
        "id": "jqopcVvBWBsk"
      },
      "execution_count": null,
      "outputs": []
    },
    {
      "cell_type": "code",
      "source": [
        "employee.info()"
      ],
      "metadata": {
        "id": "w5Ws_Y7TZfAC"
      },
      "execution_count": null,
      "outputs": []
    },
    {
      "cell_type": "markdown",
      "source": [
        "Получаем dataframe с количеством  сотрудников, работающих в каждом департаменте"
      ],
      "metadata": {
        "id": "X-_XNcuddZz1"
      }
    },
    {
      "cell_type": "code",
      "source": [
        "employee_by_dept = employee[['left', 'department']].groupby(by='department').count()\n",
        "employee_by_dept.columns = ['emp_count']"
      ],
      "metadata": {
        "id": "i-JAVRvJcBj5"
      },
      "execution_count": null,
      "outputs": []
    },
    {
      "cell_type": "code",
      "source": [
        "employee_by_dept"
      ],
      "metadata": {
        "id": "Tgnv1aeGdmeB"
      },
      "execution_count": null,
      "outputs": []
    },
    {
      "cell_type": "code",
      "source": [
        "employee_by_dept.plot(kind='bar')"
      ],
      "metadata": {
        "id": "2WgVacF-h-x0"
      },
      "execution_count": null,
      "outputs": []
    },
    {
      "cell_type": "markdown",
      "source": [
        "## 5. Показать распределение сотрудников по зарплатам."
      ],
      "metadata": {
        "id": "q1k68gtjd2tY"
      }
    },
    {
      "cell_type": "code",
      "source": [
        "employee_by_salary = employee[['left', 'salary']].groupby(by='salary').count().sort_index()\n",
        "employee_by_salary.columns = ['emp_count']\n",
        "employee_by_salary"
      ],
      "metadata": {
        "id": "Z_fdlzDYd56c"
      },
      "execution_count": null,
      "outputs": []
    },
    {
      "cell_type": "code",
      "source": [
        "employee_by_salary.plot(kind='bar', cmap='autumn')"
      ],
      "metadata": {
        "id": "ieRPbTQJbXrH"
      },
      "execution_count": null,
      "outputs": []
    },
    {
      "cell_type": "markdown",
      "source": [
        "## 6. Показать распределение сотрудников по зарплатам в каждом департаменте по отдельности"
      ],
      "metadata": {
        "id": "YObWWkqmigIE"
      }
    },
    {
      "cell_type": "markdown",
      "source": [
        "Построим сводную таблицу"
      ],
      "metadata": {
        "id": "AFOz9FgqKuIi"
      }
    },
    {
      "cell_type": "code",
      "source": [
        "employee.pivot_table(index = 'department', columns = 'salary', values = 'left', aggfunc = 'count', fill_value = 0, \n",
        "                    margins = True).style.bar(align='mid')"
      ],
      "metadata": {
        "id": "tEs5-LfLikZv"
      },
      "execution_count": null,
      "outputs": []
    },
    {
      "cell_type": "markdown",
      "source": [
        "## 7. Проверить гипотезу, что сотрудники с высоким окладом проводят на работе больше времени, чем сотрудники с низким окладом"
      ],
      "metadata": {
        "id": "c2U8x5ByfQPM"
      }
    },
    {
      "cell_type": "code",
      "source": [
        "print('''Получим DataFrame с нужными данными: \n",
        "1) оставляем столбцы \"average_montly_hours\" и \"salary\"\n",
        "2) \"salary\" по заданию сравнивается только высокий оклад и низкий. \"medium\" исключаем''')\n",
        "sal_vs_amh = df[['average_montly_hours', 'salary']][df['salary'].isin(['low', 'high'])]\n",
        "sal_vs_amh.head()"
      ],
      "metadata": {
        "id": "B6eJW5NWfVIC"
      },
      "execution_count": null,
      "outputs": []
    },
    {
      "cell_type": "code",
      "source": [
        "print('Количество данных датафрейма')\n",
        "sal_vs_amh.groupby(by='salary').count().T"
      ],
      "metadata": {
        "id": "QUd0-ZiS0J2n"
      },
      "execution_count": null,
      "outputs": []
    },
    {
      "cell_type": "code",
      "source": [
        "print('Среднее')\n",
        "sal_vs_amh.groupby(by='salary').mean()"
      ],
      "metadata": {
        "id": "cHvNguBF36cg"
      },
      "execution_count": null,
      "outputs": []
    },
    {
      "cell_type": "code",
      "source": [
        "print('Посмотрим графики')\n",
        "low = sal_vs_amh[sal_vs_amh['salary'] == 'low']['average_montly_hours']\n",
        "print('Дисперсия', low.var())\n",
        "high = sal_vs_amh[sal_vs_amh['salary'] == 'high']['average_montly_hours']\n",
        "medium = sal_vs_amh[sal_vs_amh['salary'] == 'medium']['average_montly_hours']\n",
        "print('Дисперсия', high.var())\n",
        "plt.hist(low, bins=20)\n",
        "plt.hist(high, bins=20)"
      ],
      "metadata": {
        "id": "sGq63zAU59OI"
      },
      "execution_count": null,
      "outputs": []
    },
    {
      "cell_type": "code",
      "source": [
        "sns.violinplot(x=sal_vs_amh['average_montly_hours'], y=sal_vs_amh['salary'])"
      ],
      "metadata": {
        "id": "FXKkAwAz_oyn"
      },
      "execution_count": null,
      "outputs": []
    },
    {
      "cell_type": "code",
      "source": [
        "sns.boxplot(x=sal_vs_amh['average_montly_hours'], y=sal_vs_amh['salary'])"
      ],
      "metadata": {
        "id": "cFurzwBlFRlY"
      },
      "execution_count": null,
      "outputs": []
    },
    {
      "cell_type": "code",
      "source": [
        "print(f'Дисперсия для маленькой зарплаты - {low.var()}, дисперсия большой зарпалты - {high.var()}')"
      ],
      "metadata": {
        "id": "9jnhkbc3Z6dE"
      },
      "execution_count": null,
      "outputs": []
    },
    {
      "cell_type": "markdown",
      "source": [
        "Дисперсии не сильно отличаются"
      ],
      "metadata": {
        "id": "lhh71RPvZzk4"
      }
    },
    {
      "cell_type": "code",
      "source": [
        "import scipy as spy\n",
        "from scipy import stats\n",
        "from scipy.stats import ttest_rel"
      ],
      "metadata": {
        "id": "X2T4LXjFCL-C"
      },
      "execution_count": null,
      "outputs": []
    },
    {
      "cell_type": "markdown",
      "source": [
        "расчитываем среднее по уровням зарплат"
      ],
      "metadata": {
        "id": "qYXFNtqqRggM"
      }
    },
    {
      "cell_type": "code",
      "source": [
        "for salary_value in sal_vs_amh['salary'].unique():\n",
        "    print(f'Зарплата уровня - {salary_value}, среднее количество часов на рабочем месте в месяц - {sal_vs_amh[sal_vs_amh[\"salary\"] == salary_value][\"average_montly_hours\"].mean():.3f}')"
      ],
      "metadata": {
        "id": "uMy0mLDXLSnD"
      },
      "execution_count": null,
      "outputs": []
    },
    {
      "cell_type": "markdown",
      "source": [
        "Выполним тест Стьюдента\n",
        "\n",
        "Допущения\n",
        "\n",
        "Наблюдения внутри каждой выборки независимы друг от друга.\n",
        "Распределение данных - нормлаьное или близкое к нормальному. Можно применять для других распределений, но осторожно.\n",
        "Одинаковая вариация в выборках.\n",
        "Гипотеза\n",
        "\n",
        "H0: Среднее время на работе для разных зарплат совпадают\n",
        "\n",
        "H1: Среднее время на работе для разных зарплат отличаются"
      ],
      "metadata": {
        "id": "Vvo-k7wo5fgj"
      }
    },
    {
      "cell_type": "code",
      "source": [
        "data1 = sal_vs_amh[sal_vs_amh['salary'] == 'low']['average_montly_hours']\n",
        "data2 = sal_vs_amh[sal_vs_amh['salary'] == 'high']['average_montly_hours']\n",
        "alpha = 0.05\n",
        "\n",
        "stat, p = st.ttest_ind(data1, data2)\n",
        "stat1, p1 = st.mannwhitneyu(data1, data2)\n",
        "print(f\"Статистика t-теста = {stat:.5f}, p = {p:.5f}\")\n",
        "\n",
        "if p > alpha:\n",
        "    print('H0: Не отклоняем нулевую гипотезу, средние, вероятно, для разных зарплат совпадают')\n",
        "else:\n",
        "    print('H1: Отклоняем нулевую гипотезу, средние, вероятно, различаются')\n"
      ],
      "metadata": {
        "id": "r7Yz7xi-pCj1"
      },
      "execution_count": null,
      "outputs": []
    },
    {
      "cell_type": "markdown",
      "source": [
        "## 8. Рассчитать следующие показатели среди уволившихся и не уволившихся сотрудников (по отдельности):\n",
        "\n",
        "\n",
        "*   Доля сотрудников с повышением за последние 5 лет\n",
        "*   Средняя степень удовлетворенности\n",
        "*   Среднее количество проектов\n",
        "\n"
      ],
      "metadata": {
        "id": "1Vu6PDQ3lwj3"
      }
    },
    {
      "cell_type": "markdown",
      "source": [
        "*Доля сотрудников с повышением за последние 5 лет*"
      ],
      "metadata": {
        "id": "NybwB4P5mtJt"
      }
    },
    {
      "cell_type": "code",
      "source": [
        "# посмотрим какие уникальные значения имеются для promotion_last_5years\n",
        "\n",
        "df['promotion_last_5years'].unique()"
      ],
      "metadata": {
        "id": "XneteYoCmHU7"
      },
      "execution_count": null,
      "outputs": []
    },
    {
      "cell_type": "code",
      "source": [
        "# создадим датафрейм нужных столбцов, используя группировку\n",
        "\n",
        "left = df[['left', 'promotion_last_5years', 'salary']].groupby(['left', 'promotion_last_5years'], as_index=False).count()\n",
        "left.columns = ['left', 'promotion_last_5years', 'count']\n",
        "left"
      ],
      "metadata": {
        "id": "5vVgnirIz0UV"
      },
      "execution_count": null,
      "outputs": []
    },
    {
      "cell_type": "code",
      "source": [
        "def share(left):\n",
        "    '''\n",
        "    Вычисляет долю от общего количества сотрудников\n",
        "    '''\n",
        "    total_sum = left['count'].sum()\n",
        "    left['share'] = left['count'] / total_sum\n",
        "    return left"
      ],
      "metadata": {
        "id": "LqaijI_Vhdlz"
      },
      "execution_count": null,
      "outputs": []
    },
    {
      "cell_type": "code",
      "source": [
        "# Вычисляем долю(share) сотрудников с повышением за последние 5 лет по уволившимся и работающим сотрдуникам\n",
        "\n",
        "left.groupby('left').apply(share)"
      ],
      "metadata": {
        "id": "eGC1Ce5w_I49"
      },
      "execution_count": null,
      "outputs": []
    },
    {
      "cell_type": "markdown",
      "source": [
        "*Средняя степень удовлетворенности* "
      ],
      "metadata": {
        "id": "pmEWT-duIiCU"
      }
    },
    {
      "cell_type": "code",
      "source": [
        "# создадим датафрейм нужных столбцов для satisfaction_level, используя группировку\n",
        "\n",
        "satisfaction_level = df[['left', 'satisfaction_level']].groupby(['left'], as_index=False).mean()\n",
        "satisfaction_level.columns = ['left', 'average_satisfaction_level']\n",
        "print(satisfaction_level)  "
      ],
      "metadata": {
        "id": "F8PDt7RzInkt"
      },
      "execution_count": null,
      "outputs": []
    },
    {
      "cell_type": "markdown",
      "source": [
        "*Среднее количество проектов*"
      ],
      "metadata": {
        "id": "q6RgHYy1LfnR"
      }
    },
    {
      "cell_type": "code",
      "source": [
        "# создадим датафрейм нужных столбцов для number_project, используя группировку\n",
        "\n",
        "number_project = df[['left', 'number_project']].groupby(['left'], as_index=False).mean()\n",
        "\n",
        "number_project.columns = ['left', 'average_number_project']\n",
        "\n",
        "# посчитаем, что нужно целое количество проектов. Округлим и преобразуем в int\n",
        "\n",
        "number_project['average_number_project'] = number_project['average_number_project'].round(2)\n",
        "\n",
        "print(number_project) "
      ],
      "metadata": {
        "id": "WGe1vtkkLhM4"
      },
      "execution_count": null,
      "outputs": []
    },
    {
      "cell_type": "markdown",
      "source": [
        "## 9. Разделить данные на тестовую и обучающую выборки. Построить модель LDA, предсказывающую уволился ли сотрудник на основе имеющихся факторов (кроме department и salary). Оценить качество модели на тестовой выборки."
      ],
      "metadata": {
        "id": "lTVJ2Y7dPTYi"
      }
    },
    {
      "cell_type": "code",
      "source": [
        "# посмторим еще раз на данные.\n",
        "\n",
        "df"
      ],
      "metadata": {
        "id": "fAE_kWruJLS_"
      },
      "execution_count": null,
      "outputs": []
    },
    {
      "cell_type": "markdown",
      "source": [
        "Проанализируем признаки:\n",
        "\n",
        "1. satisfaction_level - Уровень удовлетворенности работой - *непрерывная величина*\n",
        "2. Last_evaluation  - Время с момента последней оценки в годах - *непрерывная величина*\n",
        "3. number_projects - Количество проектов, выполненных за время работы - *дикретная количественная величина*\n",
        "4. average_monthly_hours - Среднее количество часов на рабочем месте в месяц - *дикретная количественная величина *\n",
        "5. time_spend_company - Стаж работы в компании в годах - *дикретная количественная величина*\n",
        "6. Work_accident - Происходили ли несчастные случаи на рабочем месте с сотрудником - *категориальная величина*\n",
        "7. left - уволился ли сотрудник - *категориальная величина*\n",
        "8. promotion_last_5years - повышался ли сотрудник за последние пять лет - *категориальная величина*\n",
        "9. department  - отдел в котором работает сотрудник - *категориальная величина*\n",
        "10. salary - относительный уровень зарплаты - *категориальная величина*"
      ],
      "metadata": {
        "id": "dnOah7Qr5j73"
      }
    },
    {
      "cell_type": "code",
      "source": [
        "# исключаем столбцы, оставив только количественные для корректной работы модели\n",
        "data = df[['satisfaction_level', 'last_evaluation', 'number_project', 'average_montly_hours', 'time_spend_company']]"
      ],
      "metadata": {
        "id": "9BRJniP4Pdgb"
      },
      "execution_count": null,
      "outputs": []
    },
    {
      "cell_type": "code",
      "source": [
        "data.info()"
      ],
      "metadata": {
        "id": "8T0D57gW5IJw"
      },
      "execution_count": null,
      "outputs": []
    },
    {
      "cell_type": "code",
      "source": [
        "# данные по классам(left)\n",
        "\n",
        "data_class = df['left']\n",
        "data_class.value_counts()"
      ],
      "metadata": {
        "id": "pzs3lvF3QI4w"
      },
      "execution_count": null,
      "outputs": []
    },
    {
      "cell_type": "code",
      "source": [
        "# разделяем выборку на тестовую и обучающую\n",
        "\n",
        "from sklearn.model_selection import train_test_split\n",
        "\n",
        "X_train, X_test, y_train, y_test = train_test_split(data, data_class, test_size=0.25, random_state=42)"
      ],
      "metadata": {
        "id": "58PDH-0_Nnvy"
      },
      "execution_count": null,
      "outputs": []
    },
    {
      "cell_type": "code",
      "source": [
        "print(f'Тренировочные данные - {len(y_train)}\\nданные для тестирования - {len(y_test)}')"
      ],
      "metadata": {
        "id": "Kh-60n76lj_W"
      },
      "execution_count": null,
      "outputs": []
    },
    {
      "cell_type": "code",
      "source": [
        "# обучаем данные\n",
        "\n",
        "lda = LinearDiscriminantAnalysis()\n",
        "lda.fit(X_train, y_train)"
      ],
      "metadata": {
        "id": "SOiAuYEBt_Sk"
      },
      "execution_count": null,
      "outputs": []
    },
    {
      "cell_type": "code",
      "source": [
        "# делаем прогноз на тестовой выборке\n",
        "pd.DataFrame(lda.predict(X_test))"
      ],
      "metadata": {
        "id": "AI7a-zZxuCfl"
      },
      "execution_count": null,
      "outputs": []
    },
    {
      "cell_type": "code",
      "source": [
        "# смотрим разницу факта и прогноза\n",
        "\n",
        "y_test.reset_index(drop=True, inplace= True)\n",
        "result = pd.DataFrame([y_test, lda.predict(X_test)]).T\n",
        "result.columns = ['left_test', 'left_predict']\n",
        "result.info()"
      ],
      "metadata": {
        "id": "6xHfrlWsuGm2"
      },
      "execution_count": null,
      "outputs": []
    },
    {
      "cell_type": "code",
      "source": [
        "# расчет точности accuracy\n",
        "from sklearn.metrics import accuracy_score\n",
        "\n",
        "accuracy_score(y_test, lda.predict(X_test))"
      ],
      "metadata": {
        "id": "YALVSByaueCU"
      },
      "execution_count": null,
      "outputs": []
    },
    {
      "cell_type": "code",
      "source": [
        "# коэффициенты дискриминатных линий\n",
        "\n",
        "lda.coef_"
      ],
      "metadata": {
        "id": "1gItUp5GuhwZ"
      },
      "execution_count": null,
      "outputs": []
    },
    {
      "cell_type": "code",
      "source": [
        "# применим метод кросс-валидации. \n",
        "# 10 сгибов 3 пвоторения\n",
        "\n",
        "cv = RepeatedStratifiedKFold(n_splits=10, n_repeats=3, random_state=42)\n",
        "\n",
        "# оценка модели\n",
        "\n",
        "scores = cross_val_score(lda, X_train, y_train, scoring='accuracy', cv=cv)\n",
        "print(np.mean(scores)) "
      ],
      "metadata": {
        "id": "hZa6vAcV6TVa"
      },
      "execution_count": null,
      "outputs": []
    },
    {
      "cell_type": "code",
      "source": [
        "# сравним с логистической регрессией\n",
        "\n",
        "data1 = df[['satisfaction_level', 'last_evaluation', 'number_project', 'average_montly_hours', 'time_spend_company', 'Work_accident', 'promotion_last_5years']]\n",
        "\n",
        "X_train1, X_test1, y_train, y_test = train_test_split(data1, data_class, test_size=0.25)\n",
        "\n",
        "from sklearn.linear_model import LogisticRegression\n",
        "lr = LogisticRegression()\n",
        "lr.fit(X_train1, y_train)\n",
        "lr.predict(X_test1)"
      ],
      "metadata": {
        "id": "AnUv_htE8eQT"
      },
      "execution_count": null,
      "outputs": []
    },
    {
      "cell_type": "code",
      "source": [
        "# вероятность принадлежности к тому или иному классу\n",
        "\n",
        "lr.predict_proba(X_test1)"
      ],
      "metadata": {
        "id": "OaEZXebx-fr6"
      },
      "execution_count": null,
      "outputs": []
    },
    {
      "cell_type": "code",
      "source": [
        "accuracy_score(y_test, lr.predict(X_test1))"
      ],
      "metadata": {
        "id": "jcovMNRp-o-S"
      },
      "execution_count": null,
      "outputs": []
    },
    {
      "cell_type": "code",
      "source": [
        "lr.coef_"
      ],
      "metadata": {
        "id": "kuBCVj8e-xu_"
      },
      "execution_count": null,
      "outputs": []
    }
  ]
}